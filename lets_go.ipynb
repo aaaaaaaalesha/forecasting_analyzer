{
 "cells": [
  {
   "cell_type": "code",
   "execution_count": 4,
   "id": "initial_id",
   "metadata": {
    "collapsed": true,
    "ExecuteTime": {
     "end_time": "2023-08-03T18:22:38.254682100Z",
     "start_time": "2023-08-03T18:22:29.231386400Z"
    }
   },
   "outputs": [
    {
     "name": "stderr",
     "output_type": "stream",
     "text": [
      "'str' object has no attribute 'status'\n"
     ]
    },
    {
     "ename": "Exception",
     "evalue": "Unexpected error: 'str' object has no attribute 'status'",
     "output_type": "error",
     "traceback": [
      "\u001B[1;31m---------------------------------------------------------------------------\u001B[0m",
      "\u001B[1;31mAttributeError\u001B[0m                            Traceback (most recent call last)",
      "File \u001B[1;32mB:\\github\\async-python-sprint-1\\external\\client.py:33\u001B[0m, in \u001B[0;36mYandexWeatherAPI.__do_req\u001B[1;34m(url)\u001B[0m\n\u001B[0;32m     31\u001B[0m         \u001B[38;5;28;01mreturn\u001B[39;00m data\n\u001B[1;32m---> 33\u001B[0m     \u001B[38;5;28;01mraise\u001B[39;00m \u001B[38;5;167;01mException\u001B[39;00m(\u001B[38;5;124mf\u001B[39m\u001B[38;5;124m'\u001B[39m\u001B[38;5;124mError during execute request. \u001B[39m\u001B[38;5;132;01m{\u001B[39;00m\u001B[43mresp_body\u001B[49m\u001B[38;5;241;43m.\u001B[39;49m\u001B[43mstatus\u001B[49m\u001B[38;5;132;01m}\u001B[39;00m\u001B[38;5;124m: \u001B[39m\u001B[38;5;132;01m{\u001B[39;00mresp_body\u001B[38;5;241m.\u001B[39mreason\u001B[38;5;132;01m}\u001B[39;00m\u001B[38;5;124m'\u001B[39m)\n\u001B[0;32m     34\u001B[0m \u001B[38;5;28;01mexcept\u001B[39;00m \u001B[38;5;167;01mException\u001B[39;00m \u001B[38;5;28;01mas\u001B[39;00m ex:\n",
      "\u001B[1;31mAttributeError\u001B[0m: 'str' object has no attribute 'status'",
      "\nDuring handling of the above exception, another exception occurred:\n",
      "\u001B[1;31mException\u001B[0m                                 Traceback (most recent call last)",
      "Cell \u001B[1;32mIn[4], line 6\u001B[0m\n\u001B[0;32m      4\u001B[0m city_name \u001B[38;5;241m=\u001B[39m \u001B[38;5;124m\"\u001B[39m\u001B[38;5;124mMOSCOW\u001B[39m\u001B[38;5;124m\"\u001B[39m\n\u001B[0;32m      5\u001B[0m url_with_data \u001B[38;5;241m=\u001B[39m get_url_by_city_name(city_name)\n\u001B[1;32m----> 6\u001B[0m resp \u001B[38;5;241m=\u001B[39m \u001B[43mYandexWeatherAPI\u001B[49m\u001B[38;5;241;43m.\u001B[39;49m\u001B[43mget_forecasting\u001B[49m\u001B[43m(\u001B[49m\u001B[43murl_with_data\u001B[49m\u001B[43m)\u001B[49m\n",
      "File \u001B[1;32mB:\\github\\async-python-sprint-1\\external\\client.py:21\u001B[0m, in \u001B[0;36mYandexWeatherAPI.get_forecasting\u001B[1;34m(url)\u001B[0m\n\u001B[0;32m     15\u001B[0m \u001B[38;5;129m@staticmethod\u001B[39m\n\u001B[0;32m     16\u001B[0m \u001B[38;5;28;01mdef\u001B[39;00m \u001B[38;5;21mget_forecasting\u001B[39m(url: \u001B[38;5;28mstr\u001B[39m):\n\u001B[0;32m     17\u001B[0m \u001B[38;5;250m    \u001B[39m\u001B[38;5;124;03m\"\"\"\u001B[39;00m\n\u001B[0;32m     18\u001B[0m \u001B[38;5;124;03m    :param url: url_to_json_data as str\u001B[39;00m\n\u001B[0;32m     19\u001B[0m \u001B[38;5;124;03m    :return: response data as json\u001B[39;00m\n\u001B[0;32m     20\u001B[0m \u001B[38;5;124;03m    \"\"\"\u001B[39;00m\n\u001B[1;32m---> 21\u001B[0m     \u001B[38;5;28;01mreturn\u001B[39;00m \u001B[43mYandexWeatherAPI\u001B[49m\u001B[38;5;241;43m.\u001B[39;49m\u001B[43m__do_req\u001B[49m\u001B[43m(\u001B[49m\u001B[43murl\u001B[49m\u001B[43m)\u001B[49m\n",
      "File \u001B[1;32mB:\\github\\async-python-sprint-1\\external\\client.py:36\u001B[0m, in \u001B[0;36mYandexWeatherAPI.__do_req\u001B[1;34m(url)\u001B[0m\n\u001B[0;32m     34\u001B[0m \u001B[38;5;28;01mexcept\u001B[39;00m \u001B[38;5;167;01mException\u001B[39;00m \u001B[38;5;28;01mas\u001B[39;00m ex:\n\u001B[0;32m     35\u001B[0m     logger\u001B[38;5;241m.\u001B[39merror(ex)\n\u001B[1;32m---> 36\u001B[0m     \u001B[38;5;28;01mraise\u001B[39;00m \u001B[38;5;167;01mException\u001B[39;00m(\u001B[38;5;124mf\u001B[39m\u001B[38;5;124m'\u001B[39m\u001B[38;5;124mUnexpected error: \u001B[39m\u001B[38;5;132;01m{\u001B[39;00mex\u001B[38;5;132;01m}\u001B[39;00m\u001B[38;5;124m'\u001B[39m)\n",
      "\u001B[1;31mException\u001B[0m: Unexpected error: 'str' object has no attribute 'status'"
     ]
    }
   ],
   "source": [
    "from external.client import YandexWeatherAPI\n",
    "from utils import get_url_by_city_name\n",
    "\n",
    "city_name = \"MOSCOW\"\n",
    "url_with_data = get_url_by_city_name(city_name)\n",
    "resp = YandexWeatherAPI.get_forecasting(url_with_data)"
   ]
  },
  {
   "cell_type": "code",
   "execution_count": null,
   "outputs": [],
   "source": [],
   "metadata": {
    "collapsed": false
   },
   "id": "b3b756bfa971c3c3"
  }
 ],
 "metadata": {
  "kernelspec": {
   "display_name": "Python 3",
   "language": "python",
   "name": "python3"
  },
  "language_info": {
   "codemirror_mode": {
    "name": "ipython",
    "version": 2
   },
   "file_extension": ".py",
   "mimetype": "text/x-python",
   "name": "python",
   "nbconvert_exporter": "python",
   "pygments_lexer": "ipython2",
   "version": "2.7.6"
  }
 },
 "nbformat": 4,
 "nbformat_minor": 5
}
