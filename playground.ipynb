{
 "cells": [
  {
   "cell_type": "code",
   "execution_count": 1,
   "outputs": [],
   "source": [
    "import logging\n",
    "\n",
    "from external.client import YandexWeatherAPI\n",
    "from tasks import (\n",
    "    DataFetchingTask,\n",
    "    DataCalculationTask,\n",
    "    DataAggregationTask,\n",
    "    DataAnalyzingTask,\n",
    ")\n",
    "\n",
    "TIMEOUT = 5.\n",
    "\n",
    "logging.basicConfig(format='%(asctime)s [%(levelname)s] %(message)s')"
   ],
   "metadata": {
    "collapsed": false,
    "ExecuteTime": {
     "end_time": "2023-08-14T08:36:00.051859Z",
     "start_time": "2023-08-14T08:35:59.415664Z"
    }
   }
  },
  {
   "cell_type": "code",
   "execution_count": 2,
   "outputs": [
    {
     "name": "stderr",
     "output_type": "stream",
     "text": [
      "2023-08-14 11:36:01,105 [WARNING] Unable to fetch data for GIZA: HTTP Error 404: Not Found\n",
      "2023-08-14 11:36:01,254 [WARNING] Unable to fetch data for TORONTO: Extra data: line 19 column 4 (char 328)\n"
     ]
    }
   ],
   "source": [
    "# DataFetchingTask.\n",
    "data_fetcher = DataFetchingTask(client=YandexWeatherAPI())\n",
    "data_fetcher.run(timeout=TIMEOUT)"
   ],
   "metadata": {
    "collapsed": false,
    "ExecuteTime": {
     "end_time": "2023-08-14T08:36:01.261419Z",
     "start_time": "2023-08-14T08:36:00.054053Z"
    }
   }
  },
  {
   "cell_type": "code",
   "execution_count": 3,
   "outputs": [
    {
     "name": "stderr",
     "output_type": "stream",
     "text": [
      "WARNING:root:Input data is empty...\n"
     ]
    }
   ],
   "source": [
    "# DataCalculationTask.\n",
    "data_calculator = DataCalculationTask(\n",
    "    data_fetcher.city_to_forecasting_data\n",
    ")\n",
    "data_calculator.run(timeout=TIMEOUT)"
   ],
   "metadata": {
    "collapsed": false,
    "ExecuteTime": {
     "end_time": "2023-08-14T08:36:02.845149Z",
     "start_time": "2023-08-14T08:36:01.260094Z"
    }
   }
  },
  {
   "cell_type": "code",
   "execution_count": 4,
   "outputs": [
    {
     "data": {
      "text/plain": "      city        date  hours_start  hours_end  hours_count  temp_avg  \\\n0  BEIJING  2022-05-26            9         19           11    31.818   \n1  BEIJING  2022-05-27            9         19           11    32.727   \n2  BEIJING  2022-05-28            9         19           11    33.818   \n3  BEIJING  2022-05-29            9         14            6    28.167   \n4   MOSCOW  2022-05-26            9         19           11    17.727   \n\n   relevant_cond_hours  temp_avg_mean  relevant_cond_hours_mean  rating  \n0                   11        31.6325                      9.75       3  \n1                   11        31.6325                      9.75       3  \n2                   11        31.6325                      9.75       3  \n3                    6        31.6325                      9.75       3  \n4                    7        13.7500                      2.00      12  ",
      "text/html": "<div>\n<style scoped>\n    .dataframe tbody tr th:only-of-type {\n        vertical-align: middle;\n    }\n\n    .dataframe tbody tr th {\n        vertical-align: top;\n    }\n\n    .dataframe thead th {\n        text-align: right;\n    }\n</style>\n<table border=\"1\" class=\"dataframe\">\n  <thead>\n    <tr style=\"text-align: right;\">\n      <th></th>\n      <th>city</th>\n      <th>date</th>\n      <th>hours_start</th>\n      <th>hours_end</th>\n      <th>hours_count</th>\n      <th>temp_avg</th>\n      <th>relevant_cond_hours</th>\n      <th>temp_avg_mean</th>\n      <th>relevant_cond_hours_mean</th>\n      <th>rating</th>\n    </tr>\n  </thead>\n  <tbody>\n    <tr>\n      <th>0</th>\n      <td>BEIJING</td>\n      <td>2022-05-26</td>\n      <td>9</td>\n      <td>19</td>\n      <td>11</td>\n      <td>31.818</td>\n      <td>11</td>\n      <td>31.6325</td>\n      <td>9.75</td>\n      <td>3</td>\n    </tr>\n    <tr>\n      <th>1</th>\n      <td>BEIJING</td>\n      <td>2022-05-27</td>\n      <td>9</td>\n      <td>19</td>\n      <td>11</td>\n      <td>32.727</td>\n      <td>11</td>\n      <td>31.6325</td>\n      <td>9.75</td>\n      <td>3</td>\n    </tr>\n    <tr>\n      <th>2</th>\n      <td>BEIJING</td>\n      <td>2022-05-28</td>\n      <td>9</td>\n      <td>19</td>\n      <td>11</td>\n      <td>33.818</td>\n      <td>11</td>\n      <td>31.6325</td>\n      <td>9.75</td>\n      <td>3</td>\n    </tr>\n    <tr>\n      <th>3</th>\n      <td>BEIJING</td>\n      <td>2022-05-29</td>\n      <td>9</td>\n      <td>14</td>\n      <td>6</td>\n      <td>28.167</td>\n      <td>6</td>\n      <td>31.6325</td>\n      <td>9.75</td>\n      <td>3</td>\n    </tr>\n    <tr>\n      <th>4</th>\n      <td>MOSCOW</td>\n      <td>2022-05-26</td>\n      <td>9</td>\n      <td>19</td>\n      <td>11</td>\n      <td>17.727</td>\n      <td>7</td>\n      <td>13.7500</td>\n      <td>2.00</td>\n      <td>12</td>\n    </tr>\n  </tbody>\n</table>\n</div>"
     },
     "execution_count": 4,
     "metadata": {},
     "output_type": "execute_result"
    }
   ],
   "source": [
    "# DataAggregationTask.\n",
    "data_aggregator = DataAggregationTask(\n",
    "    data_calculator.city_to_analyzed_days_info\n",
    ")\n",
    "aggregation_results_path = data_aggregator.run(save_format='csv')\n",
    "data_aggregator.days_analyze_df.head()"
   ],
   "metadata": {
    "collapsed": false,
    "ExecuteTime": {
     "end_time": "2023-08-14T08:36:02.931029Z",
     "start_time": "2023-08-14T08:36:02.851621Z"
    }
   }
  },
  {
   "cell_type": "code",
   "execution_count": 5,
   "outputs": [
    {
     "name": "stdout",
     "output_type": "stream",
     "text": [
      "1. ABUDHABI - 34.27275 °C - 9 days\n",
      "2. CAIRO - 33.394 °C - 11 days\n",
      "3. BEIJING - 31.6325 °C - 10 days\n"
     ]
    }
   ],
   "source": [
    "# DataAnalyzingTask.\n",
    "top_index = 3\n",
    "data_analysis = DataAnalyzingTask(aggregation_results_path)\n",
    "resulted_cities = data_analysis.run(top_index=3)\n",
    "print(f'{top_index} most relevant cities:')\n",
    "for rating, (\n",
    "        city_name,\n",
    "        temperature,\n",
    "        relevant_days,\n",
    ") in enumerate(resulted_cities):\n",
    "    print(\n",
    "        f'{rating + 1}. {city_name} - {temperature} °C '\n",
    "        f'- {round(relevant_days)} days'\n",
    "    )"
   ],
   "metadata": {
    "collapsed": false,
    "ExecuteTime": {
     "end_time": "2023-08-14T08:36:02.936273Z",
     "start_time": "2023-08-14T08:36:02.910353Z"
    }
   }
  }
 ],
 "metadata": {
  "kernelspec": {
   "display_name": "Python 3",
   "language": "python",
   "name": "python3"
  },
  "language_info": {
   "codemirror_mode": {
    "name": "ipython",
    "version": 2
   },
   "file_extension": ".py",
   "mimetype": "text/x-python",
   "name": "python",
   "nbconvert_exporter": "python",
   "pygments_lexer": "ipython2",
   "version": "2.7.6"
  }
 },
 "nbformat": 4,
 "nbformat_minor": 5
}
