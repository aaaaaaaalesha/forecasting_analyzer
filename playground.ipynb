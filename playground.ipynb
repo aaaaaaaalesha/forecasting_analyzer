{
 "cells": [
  {
   "cell_type": "code",
   "execution_count": 1,
   "outputs": [
    {
     "name": "stderr",
     "output_type": "stream",
     "text": [
      "Unable to fetch data for GIZA: HTTP Error 404: Not Found\n",
      "Unable to fetch data for TORONTO: Extra data: line 19 column 4 (char 328)\n"
     ]
    }
   ],
   "source": [
    "from tasks import DataFetchingTask, DataCalculationTask\n",
    "from external.client import YandexWeatherAPI\n",
    "\n",
    "client = YandexWeatherAPI()\n",
    "data_fetcher = DataFetchingTask(client)\n",
    "data_fetcher.run(max_workers=5)"
   ],
   "metadata": {
    "collapsed": false,
    "ExecuteTime": {
     "end_time": "2023-08-12T13:51:31.348677Z",
     "start_time": "2023-08-12T13:51:30.753684Z"
    }
   }
  },
  {
   "cell_type": "code",
   "execution_count": 2,
   "outputs": [
    {
     "name": "stdout",
     "output_type": "stream",
     "text": [
      "Available cities: LONDON, MOSCOW, BEIJING, PARIS, BERLIN, KAZAN, VOLGOGRAD, SPETERSBURG, KALININGRAD, NOVOSIBIRSK, ABUDHABI, BUCHAREST, ROMA, CAIRO, WARSZAWA, MADRID\n"
     ]
    }
   ],
   "source": [
    "available_cities = data_fetcher.city_to_forecasting_data.keys()\n",
    "print('Available cities:', ', '.join(available_cities))"
   ],
   "metadata": {
    "collapsed": false,
    "ExecuteTime": {
     "end_time": "2023-08-12T13:51:31.352978Z",
     "start_time": "2023-08-12T13:51:31.350839Z"
    }
   }
  },
  {
   "cell_type": "code",
   "execution_count": 3,
   "outputs": [
    {
     "ename": "AttributeError",
     "evalue": "'DataCalculationTask' object has no attribute 'city_to_forecasting_data'",
     "output_type": "error",
     "traceback": [
      "\u001B[0;31m---------------------------------------------------------------------------\u001B[0m",
      "\u001B[0;31mAttributeError\u001B[0m                            Traceback (most recent call last)",
      "Cell \u001B[0;32mIn[3], line 2\u001B[0m\n\u001B[1;32m      1\u001B[0m data_calculator \u001B[38;5;241m=\u001B[39m DataCalculationTask(data_fetcher\u001B[38;5;241m.\u001B[39mcity_to_forecasting_data)\n\u001B[0;32m----> 2\u001B[0m \u001B[43mdata_calculator\u001B[49m\u001B[38;5;241;43m.\u001B[39;49m\u001B[43mcity_to_forecasting_data\u001B[49m\n",
      "\u001B[0;31mAttributeError\u001B[0m: 'DataCalculationTask' object has no attribute 'city_to_forecasting_data'"
     ]
    }
   ],
   "source": [
    "DataCalculationTask(data_fetcher.city_to_forecasting_data"
   ],
   "metadata": {
    "collapsed": false,
    "ExecuteTime": {
     "end_time": "2023-08-12T13:51:31.503217Z",
     "start_time": "2023-08-12T13:51:31.353980Z"
    }
   }
  },
  {
   "cell_type": "code",
   "execution_count": 11,
   "outputs": [
    {
     "name": "stdout",
     "output_type": "stream",
     "text": [
      "{'date': '2022-05-26', 'hours_start': 9, 'hours_end': 19, 'hours_count': 11, 'temp_avg': 19.273, 'relevant_cond_hours': 9}\n",
      "{'date': '2022-05-27', 'hours_start': 9, 'hours_end': 19, 'hours_count': 11, 'temp_avg': 16.0, 'relevant_cond_hours': 6}\n",
      "{'date': '2022-05-28', 'hours_start': 9, 'hours_end': 19, 'hours_count': 11, 'temp_avg': 13.636, 'relevant_cond_hours': 0}\n",
      "{'date': '2022-05-29', 'hours_start': None, 'hours_end': None, 'hours_count': 0, 'temp_avg': None, 'relevant_cond_hours': 0}\n",
      "{'date': '2022-05-30', 'hours_start': None, 'hours_end': None, 'hours_count': 0, 'temp_avg': None, 'relevant_cond_hours': 0}\n"
     ]
    }
   ],
   "source": [],
   "metadata": {
    "collapsed": false,
    "ExecuteTime": {
     "end_time": "2023-08-12T12:13:47.408354Z",
     "start_time": "2023-08-12T12:13:47.405164Z"
    }
   }
  },
  {
   "cell_type": "code",
   "execution_count": null,
   "outputs": [],
   "source": [],
   "metadata": {
    "collapsed": false
   }
  }
 ],
 "metadata": {
  "kernelspec": {
   "display_name": "Python 3",
   "language": "python",
   "name": "python3"
  },
  "language_info": {
   "codemirror_mode": {
    "name": "ipython",
    "version": 2
   },
   "file_extension": ".py",
   "mimetype": "text/x-python",
   "name": "python",
   "nbconvert_exporter": "python",
   "pygments_lexer": "ipython2",
   "version": "2.7.6"
  }
 },
 "nbformat": 4,
 "nbformat_minor": 5
}
